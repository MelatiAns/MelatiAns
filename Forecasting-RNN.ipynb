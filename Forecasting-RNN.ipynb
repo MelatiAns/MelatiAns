#This is one of the script that I modified myself. The script is a model for making a forecast with time series data using recurrent neural network.#
{
  "nbformat": 4,
  "nbformat_minor": 0,
  "metadata": {
    "kernelspec": {
      "display_name": "Python 3",
      "language": "python",
      "name": "python3"
    },
    "language_info": {
      "codemirror_mode": {
        "name": "ipython",
        "version": 3
      },
      "file_extension": ".py",
      "mimetype": "text/x-python",
      "name": "python",
      "nbconvert_exporter": "python",
      "pygments_lexer": "ipython3",
      "version": "3.6.5"
    },
    "colab": {
      "name": "test3.ipynb",
      "provenance": []
    }
  },
  "cells": [
    {
      "cell_type": "code",
      "metadata": {
        "id": "Ogh0sqI1UDE8",
        "colab_type": "code",
        "colab": {
          "base_uri": "https://localhost:8080/",
          "height": 34
        },
        "outputId": "cdeb2409-3d92-449b-a120-a540ad1b9523"
      },
      "source": [
        "import numpy as np\n",
        "import pandas as pd\n",
        "import matplotlib.pyplot as plt\n",
        "from sklearn.preprocessing import MinMaxScaler\n",
        "from keras.models import Sequential, load_model\n",
        "from keras.layers import LSTM, Dense, Dropout\n",
        "import os"
      ],
      "execution_count": 1,
      "outputs": [
        {
          "output_type": "stream",
          "text": [
            "Using TensorFlow backend.\n"
          ],
          "name": "stderr"
        }
      ]
    },
    {
      "cell_type": "code",
      "metadata": {
        "id": "KqTzlgu2UDFB",
        "colab_type": "code",
        "colab": {
          "base_uri": "https://localhost:8080/",
          "height": 204
        },
        "outputId": "2c234a65-10b0-4417-eb2f-5824d255b401"
      },
      "source": [
        "df = pd.read_csv('Malaysia.csv')\n",
        "df.head()"
      ],
      "execution_count": 360,
      "outputs": [
        {
          "output_type": "execute_result",
          "data": {
            "text/html": [
              "<div>\n",
              "<style scoped>\n",
              "    .dataframe tbody tr th:only-of-type {\n",
              "        vertical-align: middle;\n",
              "    }\n",
              "\n",
              "    .dataframe tbody tr th {\n",
              "        vertical-align: top;\n",
              "    }\n",
              "\n",
              "    .dataframe thead th {\n",
              "        text-align: right;\n",
              "    }\n",
              "</style>\n",
              "<table border=\"1\" class=\"dataframe\">\n",
              "  <thead>\n",
              "    <tr style=\"text-align: right;\">\n",
              "      <th></th>\n",
              "      <th>Date</th>\n",
              "      <th>Number_arrivals</th>\n",
              "      <th>Fuel_price</th>\n",
              "      <th>GDP_cap</th>\n",
              "      <th>Ex_rate</th>\n",
              "      <th>BTV_ex</th>\n",
              "      <th>BTV_imp</th>\n",
              "    </tr>\n",
              "  </thead>\n",
              "  <tbody>\n",
              "    <tr>\n",
              "      <th>0</th>\n",
              "      <td>1/31/2012</td>\n",
              "      <td>87597</td>\n",
              "      <td>2.245848</td>\n",
              "      <td>10.873657</td>\n",
              "      <td>0.3288</td>\n",
              "      <td>9.633331e+08</td>\n",
              "      <td>7.288795e+08</td>\n",
              "    </tr>\n",
              "    <tr>\n",
              "      <th>1</th>\n",
              "      <td>2/29/2012</td>\n",
              "      <td>94084</td>\n",
              "      <td>2.268105</td>\n",
              "      <td>10.855602</td>\n",
              "      <td>0.3338</td>\n",
              "      <td>8.621454e+08</td>\n",
              "      <td>1.190747e+09</td>\n",
              "    </tr>\n",
              "    <tr>\n",
              "      <th>2</th>\n",
              "      <td>3/31/2012</td>\n",
              "      <td>111915</td>\n",
              "      <td>2.289203</td>\n",
              "      <td>10.839491</td>\n",
              "      <td>0.3266</td>\n",
              "      <td>1.035626e+09</td>\n",
              "      <td>1.253325e+09</td>\n",
              "    </tr>\n",
              "    <tr>\n",
              "      <th>3</th>\n",
              "      <td>4/30/2012</td>\n",
              "      <td>103430</td>\n",
              "      <td>2.309140</td>\n",
              "      <td>10.825324</td>\n",
              "      <td>0.3306</td>\n",
              "      <td>8.794681e+08</td>\n",
              "      <td>8.373437e+08</td>\n",
              "    </tr>\n",
              "    <tr>\n",
              "      <th>4</th>\n",
              "      <td>5/31/2012</td>\n",
              "      <td>120768</td>\n",
              "      <td>2.327918</td>\n",
              "      <td>10.813102</td>\n",
              "      <td>0.3153</td>\n",
              "      <td>9.349986e+08</td>\n",
              "      <td>7.835269e+08</td>\n",
              "    </tr>\n",
              "  </tbody>\n",
              "</table>\n",
              "</div>"
            ],
            "text/plain": [
              "        Date  Number_arrivals  Fuel_price  ...  Ex_rate        BTV_ex       BTV_imp\n",
              "0  1/31/2012            87597    2.245848  ...   0.3288  9.633331e+08  7.288795e+08\n",
              "1  2/29/2012            94084    2.268105  ...   0.3338  8.621454e+08  1.190747e+09\n",
              "2  3/31/2012           111915    2.289203  ...   0.3266  1.035626e+09  1.253325e+09\n",
              "3  4/30/2012           103430    2.309140  ...   0.3306  8.794681e+08  8.373437e+08\n",
              "4  5/31/2012           120768    2.327918  ...   0.3153  9.349986e+08  7.835269e+08\n",
              "\n",
              "[5 rows x 7 columns]"
            ]
          },
          "metadata": {
            "tags": []
          },
          "execution_count": 360
        }
      ]
    },
    {
      "cell_type": "code",
      "metadata": {
        "id": "pxlt41Sc-v1U",
        "colab_type": "code",
        "colab": {
          "base_uri": "https://localhost:8080/",
          "height": 297
        },
        "outputId": "302a15d5-dd14-4938-87fe-0956f25f7f0a"
      },
      "source": [
        "df.describe()"
      ],
      "execution_count": 242,
      "outputs": [
        {
          "output_type": "execute_result",
          "data": {
            "text/html": [
              "<div>\n",
              "<style scoped>\n",
              "    .dataframe tbody tr th:only-of-type {\n",
              "        vertical-align: middle;\n",
              "    }\n",
              "\n",
              "    .dataframe tbody tr th {\n",
              "        vertical-align: top;\n",
              "    }\n",
              "\n",
              "    .dataframe thead th {\n",
              "        text-align: right;\n",
              "    }\n",
              "</style>\n",
              "<table border=\"1\" class=\"dataframe\">\n",
              "  <thead>\n",
              "    <tr style=\"text-align: right;\">\n",
              "      <th></th>\n",
              "      <th>Number_arrivals</th>\n",
              "      <th>Fuel_price</th>\n",
              "      <th>GDP_cap</th>\n",
              "      <th>Ex_rate</th>\n",
              "      <th>BTV_ex</th>\n",
              "      <th>BTV_imp</th>\n",
              "    </tr>\n",
              "  </thead>\n",
              "  <tbody>\n",
              "    <tr>\n",
              "      <th>count</th>\n",
              "      <td>96.000000</td>\n",
              "      <td>96.000000</td>\n",
              "      <td>96.000000</td>\n",
              "      <td>96.000000</td>\n",
              "      <td>9.600000e+01</td>\n",
              "      <td>9.600000e+01</td>\n",
              "    </tr>\n",
              "    <tr>\n",
              "      <th>mean</th>\n",
              "      <td>153767.062500</td>\n",
              "      <td>2.072250</td>\n",
              "      <td>10.522500</td>\n",
              "      <td>0.270846</td>\n",
              "      <td>7.556751e+08</td>\n",
              "      <td>8.057412e+08</td>\n",
              "    </tr>\n",
              "    <tr>\n",
              "      <th>std</th>\n",
              "      <td>55557.938034</td>\n",
              "      <td>0.314841</td>\n",
              "      <td>0.669924</td>\n",
              "      <td>0.036753</td>\n",
              "      <td>1.508910e+08</td>\n",
              "      <td>2.211169e+08</td>\n",
              "    </tr>\n",
              "    <tr>\n",
              "      <th>min</th>\n",
              "      <td>76772.000000</td>\n",
              "      <td>1.490000</td>\n",
              "      <td>9.369086</td>\n",
              "      <td>0.222900</td>\n",
              "      <td>6.043823e+07</td>\n",
              "      <td>3.784175e+08</td>\n",
              "    </tr>\n",
              "    <tr>\n",
              "      <th>25%</th>\n",
              "      <td>109373.500000</td>\n",
              "      <td>1.888889</td>\n",
              "      <td>9.800029</td>\n",
              "      <td>0.239300</td>\n",
              "      <td>6.688423e+08</td>\n",
              "      <td>6.426971e+08</td>\n",
              "    </tr>\n",
              "    <tr>\n",
              "      <th>50%</th>\n",
              "      <td>134885.500000</td>\n",
              "      <td>2.044630</td>\n",
              "      <td>10.804907</td>\n",
              "      <td>0.255150</td>\n",
              "      <td>7.519079e+08</td>\n",
              "      <td>7.710253e+08</td>\n",
              "    </tr>\n",
              "    <tr>\n",
              "      <th>75%</th>\n",
              "      <td>192372.750000</td>\n",
              "      <td>2.410169</td>\n",
              "      <td>11.070547</td>\n",
              "      <td>0.308525</td>\n",
              "      <td>8.598203e+08</td>\n",
              "      <td>8.937410e+08</td>\n",
              "    </tr>\n",
              "    <tr>\n",
              "      <th>max</th>\n",
              "      <td>296692.000000</td>\n",
              "      <td>2.512593</td>\n",
              "      <td>11.341424</td>\n",
              "      <td>0.333800</td>\n",
              "      <td>1.114254e+09</td>\n",
              "      <td>1.663075e+09</td>\n",
              "    </tr>\n",
              "  </tbody>\n",
              "</table>\n",
              "</div>"
            ],
            "text/plain": [
              "       Number_arrivals  Fuel_price  ...        BTV_ex       BTV_imp\n",
              "count        96.000000   96.000000  ...  9.600000e+01  9.600000e+01\n",
              "mean     153767.062500    2.072250  ...  7.556751e+08  8.057412e+08\n",
              "std       55557.938034    0.314841  ...  1.508910e+08  2.211169e+08\n",
              "min       76772.000000    1.490000  ...  6.043823e+07  3.784175e+08\n",
              "25%      109373.500000    1.888889  ...  6.688423e+08  6.426971e+08\n",
              "50%      134885.500000    2.044630  ...  7.519079e+08  7.710253e+08\n",
              "75%      192372.750000    2.410169  ...  8.598203e+08  8.937410e+08\n",
              "max      296692.000000    2.512593  ...  1.114254e+09  1.663075e+09\n",
              "\n",
              "[8 rows x 6 columns]"
            ]
          },
          "metadata": {
            "tags": []
          },
          "execution_count": 242
        }
      ]
    },
    {
      "cell_type": "code",
      "metadata": {
        "id": "nrA6w-9DUDFG",
        "colab_type": "code",
        "colab": {
          "base_uri": "https://localhost:8080/",
          "height": 119
        },
        "outputId": "1945247b-a7a5-41ff-c57a-fa46a1eb09f1"
      },
      "source": [
        "df = df['BTV_imp'].values\n",
        "df = df.reshape(-1, 1)\n",
        "print(df.shape)\n",
        "df[:5]"
      ],
      "execution_count": 361,
      "outputs": [
        {
          "output_type": "stream",
          "text": [
            "(96, 1)\n"
          ],
          "name": "stdout"
        },
        {
          "output_type": "execute_result",
          "data": {
            "text/plain": [
              "array([[7.28879475e+08],\n",
              "       [1.19074718e+09],\n",
              "       [1.25332511e+09],\n",
              "       [8.37343701e+08],\n",
              "       [7.83526941e+08]])"
            ]
          },
          "metadata": {
            "tags": []
          },
          "execution_count": 361
        }
      ]
    },
    {
      "cell_type": "code",
      "metadata": {
        "id": "s9rXTF_DUDFJ",
        "colab_type": "code",
        "colab": {
          "base_uri": "https://localhost:8080/",
          "height": 51
        },
        "outputId": "c1967d8b-49d6-418a-b9dd-69fe930c71a5"
      },
      "source": [
        "dataset_train = np.array(df[:int(df.shape[0]*0.8)])\n",
        "dataset_test = np.array(df[int(df.shape[0]*0.8)-50:])\n",
        "print(dataset_train.shape)\n",
        "print(dataset_test.shape)"
      ],
      "execution_count": 362,
      "outputs": [
        {
          "output_type": "stream",
          "text": [
            "(76, 1)\n",
            "(70, 1)\n"
          ],
          "name": "stdout"
        }
      ]
    },
    {
      "cell_type": "code",
      "metadata": {
        "id": "orbxoyTVUDFN",
        "colab_type": "code",
        "colab": {
          "base_uri": "https://localhost:8080/",
          "height": 102
        },
        "outputId": "8133012f-912b-4cc8-a2cb-87dfad9644ef"
      },
      "source": [
        "scaler = MinMaxScaler(feature_range=(0,1))\n",
        "dataset_train = scaler.fit_transform(dataset_train)\n",
        "dataset_train[:5]"
      ],
      "execution_count": 363,
      "outputs": [
        {
          "output_type": "execute_result",
          "data": {
            "text/plain": [
              "array([[0.21831436],\n",
              "       [0.60478091],\n",
              "       [0.65714282],\n",
              "       [0.30907151],\n",
              "       [0.26404048]])"
            ]
          },
          "metadata": {
            "tags": []
          },
          "execution_count": 363
        }
      ]
    },
    {
      "cell_type": "code",
      "metadata": {
        "id": "U4j7Y65BUDFR",
        "colab_type": "code",
        "colab": {
          "base_uri": "https://localhost:8080/",
          "height": 102
        },
        "outputId": "2d071734-26ef-466a-9a2d-c63ae4072bc9"
      },
      "source": [
        "dataset_test = scaler.transform(dataset_test)\n",
        "dataset_test[:5]"
      ],
      "execution_count": 364,
      "outputs": [
        {
          "output_type": "execute_result",
          "data": {
            "text/plain": [
              "array([[0.27220887],\n",
              "       [0.30966286],\n",
              "       [0.32858736],\n",
              "       [0.44865313],\n",
              "       [0.32279199]])"
            ]
          },
          "metadata": {
            "tags": []
          },
          "execution_count": 364
        }
      ]
    },
    {
      "cell_type": "code",
      "metadata": {
        "id": "NrAsD2nJUDFW",
        "colab_type": "code",
        "colab": {}
      },
      "source": [
        "def create_dataset(df):\n",
        "    x = []\n",
        "    y = []\n",
        "    for i in range(21, df.shape[0]):\n",
        "        x.append(df[i-21:i, 0])\n",
        "        y.append(df[i, 0])\n",
        "    x = np.array(x)\n",
        "    y = np.array(y)\n",
        "    return x,y"
      ],
      "execution_count": 365,
      "outputs": []
    },
    {
      "cell_type": "code",
      "metadata": {
        "id": "GAMchSOeUDFZ",
        "colab_type": "code",
        "colab": {
          "base_uri": "https://localhost:8080/",
          "height": 102
        },
        "outputId": "d53acf44-ce79-4078-bc60-09b313ddb7a6"
      },
      "source": [
        "x_train, y_train = create_dataset(dataset_train)\n",
        "x_train[:1]"
      ],
      "execution_count": 366,
      "outputs": [
        {
          "output_type": "execute_result",
          "data": {
            "text/plain": [
              "array([[0.21831436, 0.60478091, 0.65714282, 0.30907151, 0.26404048,\n",
              "        0.32764081, 0.33679562, 0.29387476, 0.72957054, 0.67383158,\n",
              "        0.81084275, 0.31998769, 0.391363  , 0.48475035, 0.39935176,\n",
              "        0.55362496, 0.58702973, 0.52641372, 1.        , 0.45395757,\n",
              "        0.52190583]])"
            ]
          },
          "metadata": {
            "tags": []
          },
          "execution_count": 366
        }
      ]
    },
    {
      "cell_type": "code",
      "metadata": {
        "id": "vKwQHaONUDFd",
        "colab_type": "code",
        "colab": {
          "base_uri": "https://localhost:8080/",
          "height": 102
        },
        "outputId": "45c57db4-4af2-4254-a931-7d26df84f7eb"
      },
      "source": [
        "x_test, y_test = create_dataset(dataset_test)\n",
        "x_test[:1]"
      ],
      "execution_count": 367,
      "outputs": [
        {
          "output_type": "execute_result",
          "data": {
            "text/plain": [
              "array([[0.27220887, 0.30966286, 0.32858736, 0.44865313, 0.32279199,\n",
              "        0.31551769, 0.47679673, 0.46755912, 0.29299241, 0.41498534,\n",
              "        0.21021731, 0.13824512, 0.39966365, 0.34058686, 0.17453879,\n",
              "        0.30694598, 0.21262016, 0.14398531, 0.10783441, 0.10676487,\n",
              "        0.14083059]])"
            ]
          },
          "metadata": {
            "tags": []
          },
          "execution_count": 367
        }
      ]
    },
    {
      "cell_type": "code",
      "metadata": {
        "id": "cNE-2c64UDFg",
        "colab_type": "code",
        "colab": {}
      },
      "source": [
        "# Reshape features for LSTM Layer\n",
        "x_train = np.reshape(x_train, (x_train.shape[0], x_train.shape[1], 1))\n",
        "x_test = np.reshape(x_test, (x_test.shape[0], x_test.shape[1], 1))"
      ],
      "execution_count": 368,
      "outputs": []
    },
    {
      "cell_type": "code",
      "metadata": {
        "id": "Thl2wJipUDFj",
        "colab_type": "code",
        "colab": {}
      },
      "source": [
        "model = Sequential()\n",
        "model.add(LSTM(units=90, activation = 'relu', return_sequences=True, input_shape=(x_train.shape[1], 1)))\n",
        "model.add(Dropout(0.2))\n",
        "model.add(LSTM(units=93, activation = 'relu', return_sequences=True))\n",
        "model.add(Dropout(0.2))\n",
        "model.add(LSTM(units=93, activation = 'relu', return_sequences=True))\n",
        "model.add(Dropout(0.2))\n",
        "model.add(LSTM(units=96, activation = 'relu'))\n",
        "model.add(Dropout(0.2))\n",
        "model.add(Dense(units=1))"
      ],
      "execution_count": 369,
      "outputs": []
    },
    {
      "cell_type": "code",
      "metadata": {
        "id": "qNLmZ4wCUDFm",
        "colab_type": "code",
        "colab": {}
      },
      "source": [
        "model.compile(loss='mean_squared_error', optimizer='adam')"
      ],
      "execution_count": 370,
      "outputs": []
    },
    {
      "cell_type": "code",
      "metadata": {
        "id": "9exaKVu2UDFp",
        "colab_type": "code",
        "colab": {
          "base_uri": "https://localhost:8080/",
          "height": 1000
        },
        "outputId": "47b2e162-535b-4995-e610-7d4fea98a0df"
      },
      "source": [
        "if(not os.path.exists('my5_prediction.h5')):\n",
        "    model.fit(x_train, y_train, epochs=400, batch_size=3)\n",
        "    model.save('my5_prediction.h5')"
      ],
      "execution_count": 379,
      "outputs": [
        {
          "output_type": "stream",
          "text": [
            "Epoch 1/400\n",
            "55/55 [==============================] - 2s 39ms/step - loss: 0.0028\n",
            "Epoch 2/400\n",
            "55/55 [==============================] - 1s 15ms/step - loss: 0.0027\n",
            "Epoch 3/400\n",
            "55/55 [==============================] - 1s 15ms/step - loss: 0.0032\n",
            "Epoch 4/400\n",
            "55/55 [==============================] - 1s 15ms/step - loss: 0.0030\n",
            "Epoch 5/400\n",
            "55/55 [==============================] - 1s 15ms/step - loss: 0.0020\n",
            "Epoch 6/400\n",
            "55/55 [==============================] - 1s 15ms/step - loss: 0.0026\n",
            "Epoch 7/400\n",
            "55/55 [==============================] - 1s 15ms/step - loss: 0.0016\n",
            "Epoch 8/400\n",
            "55/55 [==============================] - 1s 15ms/step - loss: 0.0020\n",
            "Epoch 9/400\n",
            "55/55 [==============================] - 1s 15ms/step - loss: 0.0021\n",
            "Epoch 10/400\n",
            "55/55 [==============================] - 1s 15ms/step - loss: 0.0027\n",
            "Epoch 11/400\n",
            "55/55 [==============================] - 1s 15ms/step - loss: 0.0034\n",
            "Epoch 12/400\n",
            "55/55 [==============================] - 1s 15ms/step - loss: 0.0035\n",
            "Epoch 13/400\n",
            "55/55 [==============================] - 1s 15ms/step - loss: 0.0025\n",
            "Epoch 14/400\n",
            "55/55 [==============================] - 1s 15ms/step - loss: 0.0019\n",
            "Epoch 15/400\n",
            "55/55 [==============================] - 1s 15ms/step - loss: 0.0025\n",
            "Epoch 16/400\n",
            "55/55 [==============================] - 1s 15ms/step - loss: 0.0023\n",
            "Epoch 17/400\n",
            "55/55 [==============================] - 1s 15ms/step - loss: 0.0024\n",
            "Epoch 18/400\n",
            "55/55 [==============================] - 1s 15ms/step - loss: 0.0039\n",
            "Epoch 19/400\n",
            "55/55 [==============================] - 1s 15ms/step - loss: 0.0024\n",
            "Epoch 20/400\n",
            "55/55 [==============================] - 1s 15ms/step - loss: 0.0023\n",
            "Epoch 21/400\n",
            "55/55 [==============================] - 1s 15ms/step - loss: 0.0022\n",
            "Epoch 22/400\n",
            "55/55 [==============================] - 1s 15ms/step - loss: 0.0029\n",
            "Epoch 23/400\n",
            "55/55 [==============================] - 1s 15ms/step - loss: 0.0018\n",
            "Epoch 24/400\n",
            "55/55 [==============================] - 1s 15ms/step - loss: 0.0016\n",
            "Epoch 25/400\n",
            "55/55 [==============================] - 1s 15ms/step - loss: 0.0021\n",
            "Epoch 26/400\n",
            "55/55 [==============================] - 1s 15ms/step - loss: 0.0016\n",
            "Epoch 27/400\n",
            "55/55 [==============================] - 1s 15ms/step - loss: 0.0016\n",
            "Epoch 28/400\n",
            "55/55 [==============================] - 1s 15ms/step - loss: 0.0016\n",
            "Epoch 29/400\n",
            "55/55 [==============================] - 1s 15ms/step - loss: 0.0017\n",
            "Epoch 30/400\n",
            "55/55 [==============================] - 1s 15ms/step - loss: 0.0018\n",
            "Epoch 31/400\n",
            "55/55 [==============================] - 1s 15ms/step - loss: 0.0018\n",
            "Epoch 32/400\n",
            "55/55 [==============================] - 1s 15ms/step - loss: 0.0018\n",
            "Epoch 33/400\n",
            "55/55 [==============================] - 1s 15ms/step - loss: 0.0013\n",
            "Epoch 34/400\n",
            "55/55 [==============================] - 1s 15ms/step - loss: 0.0015\n",
            "Epoch 35/400\n",
            "55/55 [==============================] - 1s 15ms/step - loss: 0.0019\n",
            "Epoch 36/400\n",
            "55/55 [==============================] - 1s 15ms/step - loss: 0.0033\n",
            "Epoch 37/400\n",
            "55/55 [==============================] - 1s 15ms/step - loss: 0.0023\n",
            "Epoch 38/400\n",
            "55/55 [==============================] - 1s 15ms/step - loss: 0.0024\n",
            "Epoch 39/400\n",
            "55/55 [==============================] - 1s 15ms/step - loss: 0.0016\n",
            "Epoch 40/400\n",
            "55/55 [==============================] - 1s 15ms/step - loss: 0.0017\n",
            "Epoch 41/400\n",
            "55/55 [==============================] - 1s 15ms/step - loss: 0.0015\n",
            "Epoch 42/400\n",
            "55/55 [==============================] - 1s 15ms/step - loss: 0.0016\n",
            "Epoch 43/400\n",
            "55/55 [==============================] - 1s 15ms/step - loss: 0.0026\n",
            "Epoch 44/400\n",
            "55/55 [==============================] - 1s 15ms/step - loss: 0.0014\n",
            "Epoch 45/400\n",
            "55/55 [==============================] - 1s 15ms/step - loss: 0.0017\n",
            "Epoch 46/400\n",
            "55/55 [==============================] - 1s 15ms/step - loss: 0.0016\n",
            "Epoch 47/400\n",
            "55/55 [==============================] - 1s 15ms/step - loss: 0.0018\n",
            "Epoch 48/400\n",
            "55/55 [==============================] - 1s 15ms/step - loss: 0.0024\n",
            "Epoch 49/400\n",
            "55/55 [==============================] - 1s 15ms/step - loss: 0.0031\n",
            "Epoch 50/400\n",
            "55/55 [==============================] - 1s 15ms/step - loss: 0.0021\n",
            "Epoch 51/400\n",
            "55/55 [==============================] - 1s 15ms/step - loss: 0.0013\n",
            "Epoch 52/400\n",
            "55/55 [==============================] - 1s 15ms/step - loss: 0.0013\n",
            "Epoch 53/400\n",
            "55/55 [==============================] - 1s 15ms/step - loss: 0.0013\n",
            "Epoch 54/400\n",
            "55/55 [==============================] - 1s 15ms/step - loss: 0.0018\n",
            "Epoch 55/400\n",
            "55/55 [==============================] - 1s 15ms/step - loss: 0.0013\n",
            "Epoch 56/400\n",
            "55/55 [==============================] - 1s 15ms/step - loss: 0.0016\n",
            "Epoch 57/400\n",
            "55/55 [==============================] - 1s 15ms/step - loss: 0.0013\n",
            "Epoch 58/400\n",
            "55/55 [==============================] - 1s 15ms/step - loss: 0.0024\n",
            "Epoch 59/400\n",
            "55/55 [==============================] - 1s 15ms/step - loss: 0.0013\n",
            "Epoch 60/400\n",
            "55/55 [==============================] - 1s 15ms/step - loss: 0.0011\n",
            "Epoch 61/400\n",
            "55/55 [==============================] - 1s 15ms/step - loss: 0.0013\n",
            "Epoch 62/400\n",
            "55/55 [==============================] - 1s 15ms/step - loss: 0.0012\n",
            "Epoch 63/400\n",
            "55/55 [==============================] - 1s 15ms/step - loss: 0.0011\n",
            "Epoch 64/400\n",
            "55/55 [==============================] - 1s 15ms/step - loss: 0.0013\n",
            "Epoch 65/400\n",
            "55/55 [==============================] - 1s 15ms/step - loss: 0.0014\n",
            "Epoch 66/400\n",
            "55/55 [==============================] - 1s 15ms/step - loss: 0.0014\n",
            "Epoch 67/400\n",
            "55/55 [==============================] - 1s 15ms/step - loss: 0.0015\n",
            "Epoch 68/400\n",
            "55/55 [==============================] - 1s 15ms/step - loss: 0.0015\n",
            "Epoch 69/400\n",
            "55/55 [==============================] - 1s 15ms/step - loss: 0.0011\n",
            "Epoch 70/400\n",
            "55/55 [==============================] - 1s 15ms/step - loss: 9.5092e-04\n",
            "Epoch 71/400\n",
            "55/55 [==============================] - 1s 15ms/step - loss: 0.0012\n",
            "Epoch 72/400\n",
            "55/55 [==============================] - 1s 15ms/step - loss: 0.0018\n",
            "Epoch 73/400\n",
            "55/55 [==============================] - 1s 15ms/step - loss: 0.0016\n",
            "Epoch 74/400\n",
            "55/55 [==============================] - 1s 15ms/step - loss: 0.0016\n",
            "Epoch 75/400\n",
            "55/55 [==============================] - 1s 15ms/step - loss: 0.0015\n",
            "Epoch 76/400\n",
            "55/55 [==============================] - 1s 15ms/step - loss: 0.0016\n",
            "Epoch 77/400\n",
            "55/55 [==============================] - 1s 15ms/step - loss: 0.0017\n",
            "Epoch 78/400\n",
            "55/55 [==============================] - 1s 15ms/step - loss: 0.0023\n",
            "Epoch 79/400\n",
            "55/55 [==============================] - 1s 15ms/step - loss: 0.0033\n",
            "Epoch 80/400\n",
            "55/55 [==============================] - 1s 15ms/step - loss: 0.0028\n",
            "Epoch 81/400\n",
            "55/55 [==============================] - 1s 15ms/step - loss: 0.0038\n",
            "Epoch 82/400\n",
            "55/55 [==============================] - 1s 15ms/step - loss: 0.0021\n",
            "Epoch 83/400\n",
            "55/55 [==============================] - 1s 15ms/step - loss: 0.0016\n",
            "Epoch 84/400\n",
            "55/55 [==============================] - 1s 15ms/step - loss: 0.0013\n",
            "Epoch 85/400\n",
            "55/55 [==============================] - 1s 15ms/step - loss: 0.0014\n",
            "Epoch 86/400\n",
            "55/55 [==============================] - 1s 15ms/step - loss: 0.0011\n",
            "Epoch 87/400\n",
            "55/55 [==============================] - 1s 15ms/step - loss: 0.0013\n",
            "Epoch 88/400\n",
            "55/55 [==============================] - 1s 15ms/step - loss: 0.0034\n",
            "Epoch 89/400\n",
            "55/55 [==============================] - 1s 15ms/step - loss: 0.0016\n",
            "Epoch 90/400\n",
            "55/55 [==============================] - 1s 15ms/step - loss: 0.0019\n",
            "Epoch 91/400\n",
            "55/55 [==============================] - 1s 15ms/step - loss: 0.0015\n",
            "Epoch 92/400\n",
            "55/55 [==============================] - 1s 15ms/step - loss: 0.0011\n",
            "Epoch 93/400\n",
            "55/55 [==============================] - 1s 15ms/step - loss: 0.0014\n",
            "Epoch 94/400\n",
            "55/55 [==============================] - 1s 15ms/step - loss: 0.0011\n",
            "Epoch 95/400\n",
            "55/55 [==============================] - 1s 15ms/step - loss: 0.0014\n",
            "Epoch 96/400\n",
            "55/55 [==============================] - 1s 15ms/step - loss: 0.0018\n",
            "Epoch 97/400\n",
            "55/55 [==============================] - 1s 15ms/step - loss: 0.0011\n",
            "Epoch 98/400\n",
            "55/55 [==============================] - 1s 15ms/step - loss: 0.0011\n",
            "Epoch 99/400\n",
            "55/55 [==============================] - 1s 15ms/step - loss: 0.0013\n",
            "Epoch 100/400\n",
            "55/55 [==============================] - 1s 15ms/step - loss: 0.0012\n",
            "Epoch 101/400\n",
            "55/55 [==============================] - 1s 15ms/step - loss: 0.0012\n",
            "Epoch 102/400\n",
            "55/55 [==============================] - 1s 15ms/step - loss: 0.0011\n",
            "Epoch 103/400\n",
            "55/55 [==============================] - 1s 15ms/step - loss: 0.0015\n",
            "Epoch 104/400\n",
            "55/55 [==============================] - 1s 15ms/step - loss: 0.0014\n",
            "Epoch 105/400\n",
            "55/55 [==============================] - 1s 15ms/step - loss: 0.0022\n",
            "Epoch 106/400\n",
            "55/55 [==============================] - 1s 15ms/step - loss: 0.0015\n",
            "Epoch 107/400\n",
            "55/55 [==============================] - 1s 15ms/step - loss: 0.0017\n",
            "Epoch 108/400\n",
            "55/55 [==============================] - 1s 15ms/step - loss: 0.0078\n",
            "Epoch 109/400\n",
            "55/55 [==============================] - 1s 15ms/step - loss: 0.0054\n",
            "Epoch 110/400\n",
            "55/55 [==============================] - 1s 15ms/step - loss: 0.0055\n",
            "Epoch 111/400\n",
            "55/55 [==============================] - 1s 15ms/step - loss: 0.0041\n",
            "Epoch 112/400\n",
            "55/55 [==============================] - 1s 15ms/step - loss: 0.0027\n",
            "Epoch 113/400\n",
            "55/55 [==============================] - 1s 15ms/step - loss: 0.0027\n",
            "Epoch 114/400\n",
            "55/55 [==============================] - 1s 15ms/step - loss: 0.0023\n",
            "Epoch 115/400\n",
            "55/55 [==============================] - 1s 15ms/step - loss: 0.0031\n",
            "Epoch 116/400\n",
            "55/55 [==============================] - 1s 15ms/step - loss: 0.0020\n",
            "Epoch 117/400\n",
            "55/55 [==============================] - 1s 15ms/step - loss: 0.0021\n",
            "Epoch 118/400\n",
            "55/55 [==============================] - 1s 15ms/step - loss: 0.0015\n",
            "Epoch 119/400\n",
            "55/55 [==============================] - 1s 15ms/step - loss: 0.0014\n",
            "Epoch 120/400\n",
            "55/55 [==============================] - 1s 15ms/step - loss: 0.0016\n",
            "Epoch 121/400\n",
            "55/55 [==============================] - 1s 15ms/step - loss: 0.0014\n",
            "Epoch 122/400\n",
            "55/55 [==============================] - 1s 15ms/step - loss: 0.0012\n",
            "Epoch 123/400\n",
            "55/55 [==============================] - 1s 15ms/step - loss: 0.0014\n",
            "Epoch 124/400\n",
            "55/55 [==============================] - 1s 15ms/step - loss: 0.0010\n",
            "Epoch 125/400\n",
            "55/55 [==============================] - 1s 15ms/step - loss: 0.0013\n",
            "Epoch 126/400\n",
            "55/55 [==============================] - 1s 15ms/step - loss: 0.0019\n",
            "Epoch 127/400\n",
            "55/55 [==============================] - 1s 15ms/step - loss: 0.0014\n",
            "Epoch 128/400\n",
            "55/55 [==============================] - 1s 15ms/step - loss: 0.0013\n",
            "Epoch 129/400\n",
            "55/55 [==============================] - 1s 15ms/step - loss: 0.0013\n",
            "Epoch 130/400\n",
            "55/55 [==============================] - 1s 15ms/step - loss: 9.3335e-04\n",
            "Epoch 131/400\n",
            "55/55 [==============================] - 1s 15ms/step - loss: 0.0011\n",
            "Epoch 132/400\n",
            "55/55 [==============================] - 1s 15ms/step - loss: 0.0014\n",
            "Epoch 133/400\n",
            "55/55 [==============================] - 1s 15ms/step - loss: 0.0015\n",
            "Epoch 134/400\n",
            "55/55 [==============================] - 1s 15ms/step - loss: 0.0012\n",
            "Epoch 135/400\n",
            "55/55 [==============================] - 1s 15ms/step - loss: 0.0012\n",
            "Epoch 136/400\n",
            "55/55 [==============================] - 1s 15ms/step - loss: 7.5023e-04\n",
            "Epoch 137/400\n",
            "55/55 [==============================] - 1s 15ms/step - loss: 0.0013\n",
            "Epoch 138/400\n",
            "55/55 [==============================] - 1s 15ms/step - loss: 9.6085e-04\n",
            "Epoch 139/400\n",
            "55/55 [==============================] - 1s 15ms/step - loss: 0.0013\n",
            "Epoch 140/400\n",
            "55/55 [==============================] - 1s 15ms/step - loss: 0.0017\n",
            "Epoch 141/400\n",
            "55/55 [==============================] - 1s 15ms/step - loss: 0.0019\n",
            "Epoch 142/400\n",
            "55/55 [==============================] - 1s 15ms/step - loss: 0.0013\n",
            "Epoch 143/400\n",
            "55/55 [==============================] - 1s 15ms/step - loss: 0.0013\n",
            "Epoch 144/400\n",
            "55/55 [==============================] - 1s 15ms/step - loss: 7.0878e-04\n",
            "Epoch 145/400\n",
            "55/55 [==============================] - 1s 15ms/step - loss: 0.0010\n",
            "Epoch 146/400\n",
            "55/55 [==============================] - 1s 15ms/step - loss: 0.0011\n",
            "Epoch 147/400\n",
            "55/55 [==============================] - 1s 15ms/step - loss: 0.0011\n",
            "Epoch 148/400\n",
            "55/55 [==============================] - 1s 15ms/step - loss: 0.0011\n",
            "Epoch 149/400\n",
            "55/55 [==============================] - 1s 15ms/step - loss: 0.0011\n",
            "Epoch 150/400\n",
            "55/55 [==============================] - 1s 15ms/step - loss: 0.0015\n",
            "Epoch 151/400\n",
            "55/55 [==============================] - 1s 15ms/step - loss: 0.0016\n",
            "Epoch 152/400\n",
            "55/55 [==============================] - 1s 15ms/step - loss: 0.0016\n",
            "Epoch 153/400\n",
            "55/55 [==============================] - 1s 15ms/step - loss: 0.0011\n",
            "Epoch 154/400\n",
            "55/55 [==============================] - 1s 15ms/step - loss: 0.0012\n",
            "Epoch 155/400\n",
            "55/55 [==============================] - 1s 15ms/step - loss: 9.6245e-04\n",
            "Epoch 156/400\n",
            "55/55 [==============================] - 1s 15ms/step - loss: 0.0011\n",
            "Epoch 157/400\n",
            "55/55 [==============================] - 1s 15ms/step - loss: 0.0012\n",
            "Epoch 158/400\n",
            "55/55 [==============================] - 1s 15ms/step - loss: 0.0015\n",
            "Epoch 159/400\n",
            "55/55 [==============================] - 1s 15ms/step - loss: 0.0032\n",
            "Epoch 160/400\n",
            "55/55 [==============================] - 1s 15ms/step - loss: 0.0034\n",
            "Epoch 161/400\n",
            "55/55 [==============================] - 1s 15ms/step - loss: 0.0030\n",
            "Epoch 162/400\n",
            "55/55 [==============================] - 1s 15ms/step - loss: 0.0016\n",
            "Epoch 163/400\n",
            "55/55 [==============================] - 1s 15ms/step - loss: 9.1959e-04\n",
            "Epoch 164/400\n",
            "55/55 [==============================] - 1s 15ms/step - loss: 0.0012\n",
            "Epoch 165/400\n",
            "55/55 [==============================] - 1s 15ms/step - loss: 0.0012\n",
            "Epoch 166/400\n",
            "55/55 [==============================] - 1s 15ms/step - loss: 9.6875e-04\n",
            "Epoch 167/400\n",
            "55/55 [==============================] - 1s 15ms/step - loss: 0.0010\n",
            "Epoch 168/400\n",
            "55/55 [==============================] - 1s 15ms/step - loss: 0.0013\n",
            "Epoch 169/400\n",
            "55/55 [==============================] - 1s 15ms/step - loss: 0.0015\n",
            "Epoch 170/400\n",
            "55/55 [==============================] - 1s 15ms/step - loss: 9.8338e-04\n",
            "Epoch 171/400\n",
            "55/55 [==============================] - 1s 15ms/step - loss: 0.0013\n",
            "Epoch 172/400\n",
            "55/55 [==============================] - 1s 15ms/step - loss: 0.0014\n",
            "Epoch 173/400\n",
            "55/55 [==============================] - 1s 15ms/step - loss: 0.0013\n",
            "Epoch 174/400\n",
            "55/55 [==============================] - 1s 15ms/step - loss: 0.0012\n",
            "Epoch 175/400\n",
            "55/55 [==============================] - 1s 15ms/step - loss: 0.0012\n",
            "Epoch 176/400\n",
            "55/55 [==============================] - 1s 15ms/step - loss: 0.0012\n",
            "Epoch 177/400\n",
            "55/55 [==============================] - 1s 15ms/step - loss: 0.0010\n",
            "Epoch 178/400\n",
            "55/55 [==============================] - 1s 15ms/step - loss: 0.0017\n",
            "Epoch 179/400\n",
            "55/55 [==============================] - 1s 15ms/step - loss: 0.0014\n",
            "Epoch 180/400\n",
            "55/55 [==============================] - 1s 15ms/step - loss: 9.5464e-04\n",
            "Epoch 181/400\n",
            "55/55 [==============================] - 1s 15ms/step - loss: 9.6681e-04\n",
            "Epoch 182/400\n",
            "55/55 [==============================] - 1s 15ms/step - loss: 7.4120e-04\n",
            "Epoch 183/400\n",
            "55/55 [==============================] - 1s 15ms/step - loss: 0.0011\n",
            "Epoch 184/400\n",
            "55/55 [==============================] - 1s 15ms/step - loss: 0.0011\n",
            "Epoch 185/400\n",
            "55/55 [==============================] - 1s 15ms/step - loss: 0.0018\n",
            "Epoch 186/400\n",
            "55/55 [==============================] - 1s 15ms/step - loss: 0.0014\n",
            "Epoch 187/400\n",
            "55/55 [==============================] - 1s 15ms/step - loss: 0.0011\n",
            "Epoch 188/400\n",
            "55/55 [==============================] - 1s 15ms/step - loss: 9.7908e-04\n",
            "Epoch 189/400\n",
            "55/55 [==============================] - 1s 15ms/step - loss: 0.0013\n",
            "Epoch 190/400\n",
            "55/55 [==============================] - 1s 15ms/step - loss: 0.0010\n",
            "Epoch 191/400\n",
            "55/55 [==============================] - 1s 15ms/step - loss: 0.0011\n",
            "Epoch 192/400\n",
            "55/55 [==============================] - 1s 15ms/step - loss: 0.0010\n",
            "Epoch 193/400\n",
            "55/55 [==============================] - 1s 15ms/step - loss: 9.0497e-04\n",
            "Epoch 194/400\n",
            "55/55 [==============================] - 1s 15ms/step - loss: 0.0013\n",
            "Epoch 195/400\n",
            "55/55 [==============================] - 1s 15ms/step - loss: 0.0012\n",
            "Epoch 196/400\n",
            "55/55 [==============================] - 1s 15ms/step - loss: 0.0010\n",
            "Epoch 197/400\n",
            "55/55 [==============================] - 1s 15ms/step - loss: 0.0015\n",
            "Epoch 198/400\n",
            "55/55 [==============================] - 1s 15ms/step - loss: 0.0014\n",
            "Epoch 199/400\n",
            "55/55 [==============================] - 1s 15ms/step - loss: 0.0012\n",
            "Epoch 200/400\n",
            "55/55 [==============================] - 1s 15ms/step - loss: 0.0025\n",
            "Epoch 201/400\n",
            "55/55 [==============================] - 1s 15ms/step - loss: 0.0020\n",
            "Epoch 202/400\n",
            "55/55 [==============================] - 1s 15ms/step - loss: 0.0014\n",
            "Epoch 203/400\n",
            "55/55 [==============================] - 1s 15ms/step - loss: 0.0014\n",
            "Epoch 204/400\n",
            "55/55 [==============================] - 1s 15ms/step - loss: 0.0012\n",
            "Epoch 205/400\n",
            "55/55 [==============================] - 1s 15ms/step - loss: 0.0012\n",
            "Epoch 206/400\n",
            "55/55 [==============================] - 1s 15ms/step - loss: 0.0014\n",
            "Epoch 207/400\n",
            "55/55 [==============================] - 1s 15ms/step - loss: 7.8641e-04\n",
            "Epoch 208/400\n",
            "55/55 [==============================] - 1s 15ms/step - loss: 9.9141e-04\n",
            "Epoch 209/400\n",
            "55/55 [==============================] - 1s 15ms/step - loss: 0.0012\n",
            "Epoch 210/400\n",
            "55/55 [==============================] - 1s 15ms/step - loss: 0.0013\n",
            "Epoch 211/400\n",
            "55/55 [==============================] - 1s 15ms/step - loss: 0.0018\n",
            "Epoch 212/400\n",
            "55/55 [==============================] - 1s 15ms/step - loss: 0.0011\n",
            "Epoch 213/400\n",
            "55/55 [==============================] - 1s 15ms/step - loss: 0.0011\n",
            "Epoch 214/400\n",
            "55/55 [==============================] - 1s 15ms/step - loss: 0.0010\n",
            "Epoch 215/400\n",
            "55/55 [==============================] - 1s 15ms/step - loss: 8.7827e-04\n",
            "Epoch 216/400\n",
            "55/55 [==============================] - 1s 15ms/step - loss: 8.7188e-04\n",
            "Epoch 217/400\n",
            "55/55 [==============================] - 1s 15ms/step - loss: 8.8858e-04\n",
            "Epoch 218/400\n",
            "55/55 [==============================] - 1s 15ms/step - loss: 6.6333e-04\n",
            "Epoch 219/400\n",
            "55/55 [==============================] - 1s 15ms/step - loss: 0.0015\n",
            "Epoch 220/400\n",
            "55/55 [==============================] - 1s 15ms/step - loss: 8.9802e-04\n",
            "Epoch 221/400\n",
            "55/55 [==============================] - 1s 15ms/step - loss: 0.0018\n",
            "Epoch 222/400\n",
            "55/55 [==============================] - 1s 15ms/step - loss: 0.0028\n",
            "Epoch 223/400\n",
            "55/55 [==============================] - 1s 15ms/step - loss: 0.0030\n",
            "Epoch 224/400\n",
            "55/55 [==============================] - 1s 15ms/step - loss: 0.0042\n",
            "Epoch 225/400\n",
            "55/55 [==============================] - 1s 15ms/step - loss: 0.0018\n",
            "Epoch 226/400\n",
            "55/55 [==============================] - 1s 15ms/step - loss: 0.0018\n",
            "Epoch 227/400\n",
            "55/55 [==============================] - 1s 15ms/step - loss: 0.0015\n",
            "Epoch 228/400\n",
            "55/55 [==============================] - 1s 15ms/step - loss: 0.0010\n",
            "Epoch 229/400\n",
            "55/55 [==============================] - 1s 15ms/step - loss: 9.2937e-04\n",
            "Epoch 230/400\n",
            "55/55 [==============================] - 1s 15ms/step - loss: 0.0014\n",
            "Epoch 231/400\n",
            "55/55 [==============================] - 1s 15ms/step - loss: 0.0012\n",
            "Epoch 232/400\n",
            "55/55 [==============================] - 1s 15ms/step - loss: 0.0011\n",
            "Epoch 233/400\n",
            "55/55 [==============================] - 1s 15ms/step - loss: 0.0011\n",
            "Epoch 234/400\n",
            "55/55 [==============================] - 1s 15ms/step - loss: 8.8511e-04\n",
            "Epoch 235/400\n",
            "55/55 [==============================] - 1s 15ms/step - loss: 0.0011\n",
            "Epoch 236/400\n",
            "55/55 [==============================] - 1s 15ms/step - loss: 0.0013\n",
            "Epoch 237/400\n",
            "55/55 [==============================] - 1s 15ms/step - loss: 0.0015\n",
            "Epoch 238/400\n",
            "55/55 [==============================] - 1s 15ms/step - loss: 0.0013\n",
            "Epoch 239/400\n",
            "55/55 [==============================] - 1s 15ms/step - loss: 0.0010\n",
            "Epoch 240/400\n",
            "55/55 [==============================] - 1s 15ms/step - loss: 0.0013\n",
            "Epoch 241/400\n",
            "55/55 [==============================] - 1s 15ms/step - loss: 5.2307e-04\n",
            "Epoch 242/400\n",
            "55/55 [==============================] - 1s 15ms/step - loss: 0.0012\n",
            "Epoch 243/400\n",
            "55/55 [==============================] - 1s 15ms/step - loss: 0.0011\n",
            "Epoch 244/400\n",
            "55/55 [==============================] - 1s 15ms/step - loss: 0.0012\n",
            "Epoch 245/400\n",
            "55/55 [==============================] - 1s 15ms/step - loss: 0.0016\n",
            "Epoch 246/400\n",
            "55/55 [==============================] - 1s 15ms/step - loss: 0.0015\n",
            "Epoch 247/400\n",
            "55/55 [==============================] - 1s 15ms/step - loss: 0.0030\n",
            "Epoch 248/400\n",
            "55/55 [==============================] - 1s 15ms/step - loss: 0.0037\n",
            "Epoch 249/400\n",
            "55/55 [==============================] - 1s 15ms/step - loss: 0.0020\n",
            "Epoch 250/400\n",
            "55/55 [==============================] - 1s 15ms/step - loss: 0.0014\n",
            "Epoch 251/400\n",
            "55/55 [==============================] - 1s 15ms/step - loss: 0.0015\n",
            "Epoch 252/400\n",
            "55/55 [==============================] - 1s 15ms/step - loss: 0.0012\n",
            "Epoch 253/400\n",
            "55/55 [==============================] - 1s 15ms/step - loss: 0.0011\n",
            "Epoch 254/400\n",
            "55/55 [==============================] - 1s 15ms/step - loss: 8.4798e-04\n",
            "Epoch 255/400\n",
            "55/55 [==============================] - 1s 15ms/step - loss: 0.0012\n",
            "Epoch 256/400\n",
            "55/55 [==============================] - 1s 15ms/step - loss: 9.3757e-04\n",
            "Epoch 257/400\n",
            "55/55 [==============================] - 1s 15ms/step - loss: 8.7301e-04\n",
            "Epoch 258/400\n",
            "55/55 [==============================] - 1s 15ms/step - loss: 0.0011\n",
            "Epoch 259/400\n",
            "55/55 [==============================] - 1s 15ms/step - loss: 9.4009e-04\n",
            "Epoch 260/400\n",
            "55/55 [==============================] - 1s 15ms/step - loss: 9.9298e-04\n",
            "Epoch 261/400\n",
            "55/55 [==============================] - 1s 15ms/step - loss: 0.0012\n",
            "Epoch 262/400\n",
            "55/55 [==============================] - 1s 15ms/step - loss: 0.0011\n",
            "Epoch 263/400\n",
            "55/55 [==============================] - 1s 15ms/step - loss: 9.5059e-04\n",
            "Epoch 264/400\n",
            "55/55 [==============================] - 1s 15ms/step - loss: 7.3937e-04\n",
            "Epoch 265/400\n",
            "55/55 [==============================] - 1s 15ms/step - loss: 7.9826e-04\n",
            "Epoch 266/400\n",
            "55/55 [==============================] - 1s 15ms/step - loss: 7.1393e-04\n",
            "Epoch 267/400\n",
            "55/55 [==============================] - 1s 15ms/step - loss: 6.2133e-04\n",
            "Epoch 268/400\n",
            "55/55 [==============================] - 1s 15ms/step - loss: 6.0565e-04\n",
            "Epoch 269/400\n",
            "55/55 [==============================] - 1s 15ms/step - loss: 7.3343e-04\n",
            "Epoch 270/400\n",
            "55/55 [==============================] - 1s 15ms/step - loss: 9.8740e-04\n",
            "Epoch 271/400\n",
            "55/55 [==============================] - 1s 15ms/step - loss: 0.0011\n",
            "Epoch 272/400\n",
            "55/55 [==============================] - 1s 15ms/step - loss: 9.4486e-04\n",
            "Epoch 273/400\n",
            "55/55 [==============================] - 1s 15ms/step - loss: 8.6050e-04\n",
            "Epoch 274/400\n",
            "55/55 [==============================] - 1s 15ms/step - loss: 7.7608e-04\n",
            "Epoch 275/400\n",
            "55/55 [==============================] - 1s 15ms/step - loss: 7.8212e-04\n",
            "Epoch 276/400\n",
            "55/55 [==============================] - 1s 15ms/step - loss: 7.4589e-04\n",
            "Epoch 277/400\n",
            "55/55 [==============================] - 1s 15ms/step - loss: 8.7810e-04\n",
            "Epoch 278/400\n",
            "55/55 [==============================] - 1s 15ms/step - loss: 6.9770e-04\n",
            "Epoch 279/400\n",
            "55/55 [==============================] - 1s 15ms/step - loss: 7.3404e-04\n",
            "Epoch 280/400\n",
            "55/55 [==============================] - 1s 15ms/step - loss: 0.0011\n",
            "Epoch 281/400\n",
            "55/55 [==============================] - 1s 15ms/step - loss: 0.0011\n",
            "Epoch 282/400\n",
            "55/55 [==============================] - 1s 15ms/step - loss: 9.9606e-04\n",
            "Epoch 283/400\n",
            "55/55 [==============================] - 1s 15ms/step - loss: 0.0014\n",
            "Epoch 284/400\n",
            "55/55 [==============================] - 1s 15ms/step - loss: 0.0017\n",
            "Epoch 285/400\n",
            "55/55 [==============================] - 1s 15ms/step - loss: 9.2869e-04\n",
            "Epoch 286/400\n",
            "55/55 [==============================] - 1s 15ms/step - loss: 6.9005e-04\n",
            "Epoch 287/400\n",
            "55/55 [==============================] - 1s 15ms/step - loss: 0.0010\n",
            "Epoch 288/400\n",
            "55/55 [==============================] - 1s 15ms/step - loss: 9.0121e-04\n",
            "Epoch 289/400\n",
            "55/55 [==============================] - 1s 15ms/step - loss: 0.0010\n",
            "Epoch 290/400\n",
            "55/55 [==============================] - 1s 15ms/step - loss: 6.7436e-04\n",
            "Epoch 291/400\n",
            "55/55 [==============================] - 1s 15ms/step - loss: 8.3995e-04\n",
            "Epoch 292/400\n",
            "55/55 [==============================] - 1s 15ms/step - loss: 9.9050e-04\n",
            "Epoch 293/400\n",
            "55/55 [==============================] - 1s 15ms/step - loss: 5.3040e-04\n",
            "Epoch 294/400\n",
            "55/55 [==============================] - 1s 15ms/step - loss: 0.0011\n",
            "Epoch 295/400\n",
            "55/55 [==============================] - 1s 15ms/step - loss: 0.0016\n",
            "Epoch 296/400\n",
            "55/55 [==============================] - 1s 15ms/step - loss: 0.0012\n",
            "Epoch 297/400\n",
            "55/55 [==============================] - 1s 15ms/step - loss: 0.0014\n",
            "Epoch 298/400\n",
            "55/55 [==============================] - 1s 15ms/step - loss: 9.8530e-04\n",
            "Epoch 299/400\n",
            "55/55 [==============================] - 1s 15ms/step - loss: 0.0013\n",
            "Epoch 300/400\n",
            "55/55 [==============================] - 1s 15ms/step - loss: 9.0106e-04\n",
            "Epoch 301/400\n",
            "55/55 [==============================] - 1s 15ms/step - loss: 0.0012\n",
            "Epoch 302/400\n",
            "55/55 [==============================] - 1s 15ms/step - loss: 0.0010\n",
            "Epoch 303/400\n",
            "55/55 [==============================] - 1s 15ms/step - loss: 6.1637e-04\n",
            "Epoch 304/400\n",
            "55/55 [==============================] - 1s 15ms/step - loss: 5.7363e-04\n",
            "Epoch 305/400\n",
            "55/55 [==============================] - 1s 15ms/step - loss: 7.5349e-04\n",
            "Epoch 306/400\n",
            "55/55 [==============================] - 1s 15ms/step - loss: 7.2548e-04\n",
            "Epoch 307/400\n",
            "55/55 [==============================] - 1s 15ms/step - loss: 0.0011\n",
            "Epoch 308/400\n",
            "55/55 [==============================] - 1s 15ms/step - loss: 8.8021e-04\n",
            "Epoch 309/400\n",
            "55/55 [==============================] - 1s 15ms/step - loss: 7.6741e-04\n",
            "Epoch 310/400\n",
            "55/55 [==============================] - 1s 15ms/step - loss: 0.0014\n",
            "Epoch 311/400\n",
            "55/55 [==============================] - 1s 15ms/step - loss: 0.0015\n",
            "Epoch 312/400\n",
            "55/55 [==============================] - 1s 15ms/step - loss: 0.0013\n",
            "Epoch 313/400\n",
            "55/55 [==============================] - 1s 15ms/step - loss: 0.0015\n",
            "Epoch 314/400\n",
            "55/55 [==============================] - 1s 15ms/step - loss: 0.0010\n",
            "Epoch 315/400\n",
            "55/55 [==============================] - 1s 15ms/step - loss: 6.9652e-04\n",
            "Epoch 316/400\n",
            "55/55 [==============================] - 1s 15ms/step - loss: 8.4067e-04\n",
            "Epoch 317/400\n",
            "55/55 [==============================] - 1s 15ms/step - loss: 0.0016\n",
            "Epoch 318/400\n",
            "55/55 [==============================] - 1s 15ms/step - loss: 0.0020\n",
            "Epoch 319/400\n",
            "55/55 [==============================] - 1s 15ms/step - loss: 0.0017\n",
            "Epoch 320/400\n",
            "55/55 [==============================] - 1s 15ms/step - loss: 0.0010\n",
            "Epoch 321/400\n",
            "55/55 [==============================] - 1s 15ms/step - loss: 0.0010\n",
            "Epoch 322/400\n",
            "55/55 [==============================] - 1s 15ms/step - loss: 8.0846e-04\n",
            "Epoch 323/400\n",
            "55/55 [==============================] - 1s 15ms/step - loss: 0.0011\n",
            "Epoch 324/400\n",
            "55/55 [==============================] - 1s 15ms/step - loss: 7.9493e-04\n",
            "Epoch 325/400\n",
            "55/55 [==============================] - 1s 15ms/step - loss: 0.0010\n",
            "Epoch 326/400\n",
            "55/55 [==============================] - 1s 15ms/step - loss: 0.0010\n",
            "Epoch 327/400\n",
            "55/55 [==============================] - 1s 15ms/step - loss: 9.5471e-04\n",
            "Epoch 328/400\n",
            "55/55 [==============================] - 1s 15ms/step - loss: 8.4048e-04\n",
            "Epoch 329/400\n",
            "55/55 [==============================] - 1s 16ms/step - loss: 9.7045e-04\n",
            "Epoch 330/400\n",
            "55/55 [==============================] - 1s 16ms/step - loss: 7.9333e-04\n",
            "Epoch 331/400\n",
            "55/55 [==============================] - 1s 16ms/step - loss: 9.0044e-04\n",
            "Epoch 332/400\n",
            "55/55 [==============================] - 1s 15ms/step - loss: 9.6083e-04\n",
            "Epoch 333/400\n",
            "55/55 [==============================] - 1s 15ms/step - loss: 9.5053e-04\n",
            "Epoch 334/400\n",
            "55/55 [==============================] - 1s 15ms/step - loss: 0.0013\n",
            "Epoch 335/400\n",
            "55/55 [==============================] - 1s 16ms/step - loss: 0.0011\n",
            "Epoch 336/400\n",
            "55/55 [==============================] - 1s 16ms/step - loss: 0.0012\n",
            "Epoch 337/400\n",
            "55/55 [==============================] - 1s 15ms/step - loss: 7.5661e-04\n",
            "Epoch 338/400\n",
            "55/55 [==============================] - 1s 16ms/step - loss: 0.0012\n",
            "Epoch 339/400\n",
            "55/55 [==============================] - 1s 16ms/step - loss: 0.0017\n",
            "Epoch 340/400\n",
            "55/55 [==============================] - 1s 15ms/step - loss: 0.0015\n",
            "Epoch 341/400\n",
            "55/55 [==============================] - 1s 16ms/step - loss: 0.0022\n",
            "Epoch 342/400\n",
            "55/55 [==============================] - 1s 15ms/step - loss: 0.0022\n",
            "Epoch 343/400\n",
            "55/55 [==============================] - 1s 15ms/step - loss: 0.0011\n",
            "Epoch 344/400\n",
            "55/55 [==============================] - 1s 15ms/step - loss: 9.3098e-04\n",
            "Epoch 345/400\n",
            "55/55 [==============================] - 1s 15ms/step - loss: 7.6312e-04\n",
            "Epoch 346/400\n",
            "55/55 [==============================] - 1s 15ms/step - loss: 9.8541e-04\n",
            "Epoch 347/400\n",
            "55/55 [==============================] - 1s 15ms/step - loss: 6.8959e-04\n",
            "Epoch 348/400\n",
            "55/55 [==============================] - 1s 15ms/step - loss: 8.5778e-04\n",
            "Epoch 349/400\n",
            "55/55 [==============================] - 1s 15ms/step - loss: 6.0991e-04\n",
            "Epoch 350/400\n",
            "55/55 [==============================] - 1s 15ms/step - loss: 0.0013\n",
            "Epoch 351/400\n",
            "55/55 [==============================] - 1s 15ms/step - loss: 6.4849e-04\n",
            "Epoch 352/400\n",
            "55/55 [==============================] - 1s 15ms/step - loss: 7.9168e-04\n",
            "Epoch 353/400\n",
            "55/55 [==============================] - 1s 15ms/step - loss: 9.5993e-04\n",
            "Epoch 354/400\n",
            "55/55 [==============================] - 1s 15ms/step - loss: 7.4658e-04\n",
            "Epoch 355/400\n",
            "55/55 [==============================] - 1s 15ms/step - loss: 6.4848e-04\n",
            "Epoch 356/400\n",
            "55/55 [==============================] - 1s 15ms/step - loss: 6.7906e-04\n",
            "Epoch 357/400\n",
            "55/55 [==============================] - 1s 15ms/step - loss: 8.4532e-04\n",
            "Epoch 358/400\n",
            "55/55 [==============================] - 1s 15ms/step - loss: 4.6669e-04\n",
            "Epoch 359/400\n",
            "55/55 [==============================] - 1s 15ms/step - loss: 5.9514e-04\n",
            "Epoch 360/400\n",
            "55/55 [==============================] - 1s 15ms/step - loss: 7.7009e-04\n",
            "Epoch 361/400\n",
            "55/55 [==============================] - 1s 15ms/step - loss: 0.0015\n",
            "Epoch 362/400\n",
            "55/55 [==============================] - 1s 15ms/step - loss: 8.4607e-04\n",
            "Epoch 363/400\n",
            "55/55 [==============================] - 1s 15ms/step - loss: 0.0022\n",
            "Epoch 364/400\n",
            "55/55 [==============================] - 1s 15ms/step - loss: 0.0047\n",
            "Epoch 365/400\n",
            "55/55 [==============================] - 1s 15ms/step - loss: 0.0021\n",
            "Epoch 366/400\n",
            "55/55 [==============================] - 1s 15ms/step - loss: 0.0013\n",
            "Epoch 367/400\n",
            "55/55 [==============================] - 1s 15ms/step - loss: 0.0012\n",
            "Epoch 368/400\n",
            "55/55 [==============================] - 1s 15ms/step - loss: 5.9501e-04\n",
            "Epoch 369/400\n",
            "55/55 [==============================] - 1s 15ms/step - loss: 9.7357e-04\n",
            "Epoch 370/400\n",
            "55/55 [==============================] - 1s 15ms/step - loss: 0.0012\n",
            "Epoch 371/400\n",
            "55/55 [==============================] - 1s 15ms/step - loss: 0.0012\n",
            "Epoch 372/400\n",
            "55/55 [==============================] - 1s 15ms/step - loss: 9.5825e-04\n",
            "Epoch 373/400\n",
            "55/55 [==============================] - 1s 15ms/step - loss: 8.2769e-04\n",
            "Epoch 374/400\n",
            "55/55 [==============================] - 1s 15ms/step - loss: 5.5615e-04\n",
            "Epoch 375/400\n",
            "55/55 [==============================] - 1s 15ms/step - loss: 8.5259e-04\n",
            "Epoch 376/400\n",
            "55/55 [==============================] - 1s 15ms/step - loss: 5.8596e-04\n",
            "Epoch 377/400\n",
            "55/55 [==============================] - 1s 15ms/step - loss: 8.3130e-04\n",
            "Epoch 378/400\n",
            "55/55 [==============================] - 1s 15ms/step - loss: 6.7145e-04\n",
            "Epoch 379/400\n",
            "55/55 [==============================] - 1s 15ms/step - loss: 7.4399e-04\n",
            "Epoch 380/400\n",
            "55/55 [==============================] - 1s 15ms/step - loss: 7.6125e-04\n",
            "Epoch 381/400\n",
            "55/55 [==============================] - 1s 15ms/step - loss: 8.5553e-04\n",
            "Epoch 382/400\n",
            "55/55 [==============================] - 1s 15ms/step - loss: 0.0011\n",
            "Epoch 383/400\n",
            "55/55 [==============================] - 1s 15ms/step - loss: 7.3649e-04\n",
            "Epoch 384/400\n",
            "55/55 [==============================] - 1s 15ms/step - loss: 7.4172e-04\n",
            "Epoch 385/400\n",
            "55/55 [==============================] - 1s 15ms/step - loss: 0.0015\n",
            "Epoch 386/400\n",
            "55/55 [==============================] - 1s 15ms/step - loss: 8.7242e-04\n",
            "Epoch 387/400\n",
            "55/55 [==============================] - 1s 15ms/step - loss: 0.0017\n",
            "Epoch 388/400\n",
            "55/55 [==============================] - 1s 15ms/step - loss: 0.0015\n",
            "Epoch 389/400\n",
            "55/55 [==============================] - 1s 15ms/step - loss: 0.0013\n",
            "Epoch 390/400\n",
            "55/55 [==============================] - 1s 15ms/step - loss: 0.0010\n",
            "Epoch 391/400\n",
            "55/55 [==============================] - 1s 15ms/step - loss: 9.0924e-04\n",
            "Epoch 392/400\n",
            "55/55 [==============================] - 1s 15ms/step - loss: 9.6514e-04\n",
            "Epoch 393/400\n",
            "55/55 [==============================] - 1s 15ms/step - loss: 7.8641e-04\n",
            "Epoch 394/400\n",
            "55/55 [==============================] - 1s 15ms/step - loss: 8.4380e-04\n",
            "Epoch 395/400\n",
            "55/55 [==============================] - 1s 15ms/step - loss: 0.0012\n",
            "Epoch 396/400\n",
            "55/55 [==============================] - 1s 15ms/step - loss: 0.0012\n",
            "Epoch 397/400\n",
            "55/55 [==============================] - 1s 15ms/step - loss: 0.0012\n",
            "Epoch 398/400\n",
            "55/55 [==============================] - 1s 15ms/step - loss: 0.0010\n",
            "Epoch 399/400\n",
            "55/55 [==============================] - 1s 15ms/step - loss: 8.1534e-04\n",
            "Epoch 400/400\n",
            "55/55 [==============================] - 1s 15ms/step - loss: 6.6087e-04\n"
          ],
          "name": "stdout"
        }
      ]
    },
    {
      "cell_type": "code",
      "metadata": {
        "id": "3YXkmP00UDFs",
        "colab_type": "code",
        "colab": {}
      },
      "source": [
        "model = load_model('my5_prediction.h5')"
      ],
      "execution_count": 380,
      "outputs": []
    },
    {
      "cell_type": "code",
      "metadata": {
        "id": "urLyJX76UDFv",
        "colab_type": "code",
        "colab": {
          "base_uri": "https://localhost:8080/",
          "height": 293
        },
        "outputId": "d18ec576-799f-4c67-fc27-aa93dd525ff7"
      },
      "source": [
        "predictions = model.predict(x_test)\n",
        "predictions = scaler.inverse_transform(predictions)\n",
        "\n",
        "fig, ax = plt.subplots(figsize=(8,4))\n",
        "plt.plot(df, color='red',  label=\"Actual\")\n",
        "ax.plot(range(len(y_train)+10,len(y_train)+10+len(predictions)),predictions, color='blue', label='Predicted')\n",
        "plt.legend()"
      ],
      "execution_count": 381,
      "outputs": [
        {
          "output_type": "execute_result",
          "data": {
            "text/plain": [
              "<matplotlib.legend.Legend at 0x7fa964baba90>"
            ]
          },
          "metadata": {
            "tags": []
          },
          "execution_count": 381
        },
        {
          "output_type": "display_data",
          "data": {
            "image/png": "[encoded data removed]",
            "text/plain": [
              "<Figure size 576x288 with 1 Axes>"
            ]
          },
          "metadata": {
            "tags": [],
            "needs_background": "light"
          }
        }
      ]
    },
    {
      "cell_type": "code",
      "metadata": {
        "id": "p2BxBWc6UDFy",
        "colab_type": "code",
        "colab": {
          "base_uri": "https://localhost:8080/",
          "height": 293
        },
        "outputId": "d0dee6ef-b5df-4302-e467-6fdc61f21b28"
      },
      "source": [
        "y_test_scaled = scaler.inverse_transform(y_test.reshape(-1, 1))\n",
        "\n",
        "fig, ax = plt.subplots(figsize=(8,4))\n",
        "ax.plot(y_test_scaled, color='red', label='Actual')\n",
        "plt.plot(predictions, color='blue', label='Predicted')\n",
        "plt.legend()"
      ],
      "execution_count": 382,
      "outputs": [
        {
          "output_type": "execute_result",
          "data": {
            "text/plain": [
              "<matplotlib.legend.Legend at 0x7fa964b1f8d0>"
            ]
          },
          "metadata": {
            "tags": []
          },
          "execution_count": 382
        },
        {
          "output_type": "display_data",
          "data": {
            "image/png": "[encoded data removed]",
            "text/plain": [
              "<Figure size 576x288 with 1 Axes>"
            ]
          },
          "metadata": {
            "tags": [],
            "needs_background": "light"
          }
        }
      ]
    },
    {
      "cell_type": "code",
      "metadata": {
        "id": "XPnTYpbVx87M",
        "colab_type": "code",
        "colab": {
          "base_uri": "https://localhost:8080/",
          "height": 34
        },
        "outputId": "c11614f2-d17f-462d-a38c-63ac4fc35b9e"
      },
      "source": [
        "from sklearn.metrics import mean_squared_error\n",
        "expected = y_test_scaled\n",
        "predicted = predictions\n",
        "mse = mean_squared_error(expected, predicted)\n",
        "print('MSE: %f' % mse)"
      ],
      "execution_count": 383,
      "outputs": [
        {
          "output_type": "stream",
          "text": [
            "MSE: 8783334162306130.000000\n"
          ],
          "name": "stdout"
        }
      ]
    },
    {
      "cell_type": "code",
      "metadata": {
        "id": "wygBO8bx9xaZ",
        "colab_type": "code",
        "colab": {
          "base_uri": "https://localhost:8080/",
          "height": 34
        },
        "outputId": "80294605-c2f5-44ef-f6dd-bd9490ed53a1"
      },
      "source": [
        "from sklearn.metrics import mean_squared_error\n",
        "from math import sqrt\n",
        "\n",
        "rms = sqrt(mean_squared_error(y_test_scaled, predictions))\n",
        "rms"
      ],
      "execution_count": 387,
      "outputs": [
        {
          "output_type": "execute_result",
          "data": {
            "text/plain": [
              "93719443.88602681"
            ]
          },
          "metadata": {
            "tags": []
          },
          "execution_count": 387
        }
      ]
    },
    {
      "cell_type": "code",
      "metadata": {
        "id": "NOMFmoPkIc3v",
        "colab_type": "code",
        "colab": {
          "base_uri": "https://localhost:8080/",
          "height": 34
        },
        "outputId": "4fe2dc2d-37ea-4962-92be-b1b95883ce3a"
      },
      "source": [
        "from sklearn.metrics import mean_squared_error\n",
        "from math import sqrt\n",
        "expected = y_test_scaled\n",
        "predicted = predictions\n",
        "mse = mean_squared_error(expected, predicted)\n",
        "rmse = sqrt(mse)\n",
        "print('RMSE: %f' % rmse)"
      ],
      "execution_count": 384,
      "outputs": [
        {
          "output_type": "stream",
          "text": [
            "RMSE: 93719443.886027\n"
          ],
          "name": "stdout"
        }
      ]
    },
    {
      "cell_type": "code",
      "metadata": {
        "id": "5GahXlTxmb1R",
        "colab_type": "code",
        "colab": {}
      },
      "source": [
        "import numpy as np\n",
        "\n",
        "def mean_absolute_percentage_error(y_test_scaled, predictions): \n",
        "    y_test_scaled, predictions = np.array(y_test_scaled), np.array(predictions)\n",
        "    return np.mean(np.abs((y_test_scaled - predictions) / y_test_scaled)) * 100"
      ],
      "execution_count": 385,
      "outputs": []
    },
    {
      "cell_type": "code",
      "metadata": {
        "id": "cpc2Kh5up4Jk",
        "colab_type": "code",
        "colab": {
          "base_uri": "https://localhost:8080/",
          "height": 34
        },
        "outputId": "43ad7608-3eaf-4c9b-fd09-8da5db2debbc"
      },
      "source": [
        "mean_absolute_percentage_error(y_test_scaled, predictions)"
      ],
      "execution_count": 386,
      "outputs": [
        {
          "output_type": "execute_result",
          "data": {
            "text/plain": [
              "10.013279786812095"
            ]
          },
          "metadata": {
            "tags": []
          },
          "execution_count": 386
        }
      ]
    },
    {
      "cell_type": "code",
      "metadata": {
        "id": "sTCESbLZfqMh",
        "colab_type": "code",
        "colab": {
          "base_uri": "https://localhost:8080/",
          "height": 850
        },
        "outputId": "955db39c-19f9-4b7d-dd86-c570962ef106"
      },
      "source": [
        "predictions"
      ],
      "execution_count": 191,
      "outputs": [
        {
          "output_type": "execute_result",
          "data": {
            "text/plain": [
              "array([[0.28861544],\n",
              "       [0.28865466],\n",
              "       [0.28869435],\n",
              "       [0.28872666],\n",
              "       [0.28875318],\n",
              "       [0.28878403],\n",
              "       [0.28881493],\n",
              "       [0.28885782],\n",
              "       [0.28890327],\n",
              "       [0.28895563],\n",
              "       [0.2890069 ],\n",
              "       [0.28904626],\n",
              "       [0.28907102],\n",
              "       [0.28907436],\n",
              "       [0.28904822],\n",
              "       [0.2890075 ],\n",
              "       [0.28894934],\n",
              "       [0.288891  ],\n",
              "       [0.2888341 ],\n",
              "       [0.2887868 ],\n",
              "       [0.28875273],\n",
              "       [0.28873143],\n",
              "       [0.2887266 ],\n",
              "       [0.2887373 ],\n",
              "       [0.2887489 ],\n",
              "       [0.28877202],\n",
              "       [0.28879625],\n",
              "       [0.28882912],\n",
              "       [0.28885108],\n",
              "       [0.28886577],\n",
              "       [0.28887847],\n",
              "       [0.28887933],\n",
              "       [0.2888743 ],\n",
              "       [0.28887388],\n",
              "       [0.28887153],\n",
              "       [0.28886217],\n",
              "       [0.28885105],\n",
              "       [0.28883702],\n",
              "       [0.28882462],\n",
              "       [0.2888138 ],\n",
              "       [0.28880766],\n",
              "       [0.2888009 ],\n",
              "       [0.28879806],\n",
              "       [0.2888035 ],\n",
              "       [0.28881785],\n",
              "       [0.28883928],\n",
              "       [0.28886408],\n",
              "       [0.28888506],\n",
              "       [0.28889748]], dtype=float32)"
            ]
          },
          "metadata": {
            "tags": []
          },
          "execution_count": 191
        }
      ]
    },
    {
      "cell_type": "code",
      "metadata": {
        "id": "rES--U-MPK69",
        "colab_type": "code",
        "colab": {}
      },
      "source": [
        "from numpy import asarray\n",
        "from numpy import savetxt"
      ],
      "execution_count": null,
      "outputs": []
    },
    {
      "cell_type": "code",
      "metadata": {
        "id": "C5jEah2-P3Ny",
        "colab_type": "code",
        "colab": {}
      },
      "source": [
        "data = predictions"
      ],
      "execution_count": null,
      "outputs": []
    },
    {
      "cell_type": "code",
      "metadata": {
        "id": "w4zv-4aTQuYQ",
        "colab_type": "code",
        "colab": {}
      },
      "source": [
        "savetxt('CN_btvimp.csv', data, delimiter=',')"
      ],
      "execution_count": null,
      "outputs": []
    }
  ]
}
